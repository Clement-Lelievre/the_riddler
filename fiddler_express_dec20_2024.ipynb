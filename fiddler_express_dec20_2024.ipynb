{
 "cells": [
  {
   "cell_type": "markdown",
   "metadata": {},
   "source": [
    "https://thefiddler.substack.com/p/happy-almost-new-year-from-the-fiddler-f0b\n",
    "\n",
    "The number 2025 is not prime. As a matter of fact, it’s a perfect square: 2025 = 452.\n",
    "\n",
    "You cannot make 2025 by adding two distinct primes. To do so, you’d have to add an even prime and an odd prime. The only even prime is 2, but 2025 − 2 = 2023, which is not prime (it’s equal to 7∙172).\n",
    "\n",
    "But you can make 2025 by adding three distinct primes. For example, 661 + 673 + 691 = 2025.\n",
    "\n",
    "You can also make 2025 by adding four distinct primes: 2 + 659 + 673 + 691 = 2025.\n",
    "\n",
    "**What is the greatest number of distinct primes that add up to 2025?**"
   ]
  },
  {
   "cell_type": "markdown",
   "metadata": {},
   "source": [
    "# TLDR: 32, see bottom cell"
   ]
  },
  {
   "cell_type": "markdown",
   "metadata": {},
   "source": [
    "Let's try the programmatic approach, although given the combinatorial explosion, I'm expecting it will not scale\n",
    "If not, let's see if I can use some properties of prime numbers to either solve the problem mathematically, or to reduce the search space"
   ]
  },
  {
   "cell_type": "code",
   "execution_count": 3,
   "metadata": {},
   "outputs": [
    {
     "name": "stdout",
     "output_type": "stream",
     "text": [
      "306 primes under 2025:\n",
      "[2, 3, 5, 7, 11, 13, 17, 19, 23, 29, 31, 37, 41, 43, 47, 53, 59, 61, 67, 71, 73, 79, 83, 89, 97, 101, 103, 107, 109, 113, 127, 131, 137, 139, 149, 151, 157, 163, 167, 173, 179, 181, 191, 193, 197, 199, 211, 223, 227, 229, 233, 239, 241, 251, 257, 263, 269, 271, 277, 281, 283, 293, 307, 311, 313, 317, 331, 337, 347, 349, 353, 359, 367, 373, 379, 383, 389, 397, 401, 409, 419, 421, 431, 433, 439, 443, 449, 457, 461, 463, 467, 479, 487, 491, 499, 503, 509, 521, 523, 541, 547, 557, 563, 569, 571, 577, 587, 593, 599, 601, 607, 613, 617, 619, 631, 641, 643, 647, 653, 659, 661, 673, 677, 683, 691, 701, 709, 719, 727, 733, 739, 743, 751, 757, 761, 769, 773, 787, 797, 809, 811, 821, 823, 827, 829, 839, 853, 857, 859, 863, 877, 881, 883, 887, 907, 911, 919, 929, 937, 941, 947, 953, 967, 971, 977, 983, 991, 997, 1009, 1013, 1019, 1021, 1031, 1033, 1039, 1049, 1051, 1061, 1063, 1069, 1087, 1091, 1093, 1097, 1103, 1109, 1117, 1123, 1129, 1151, 1153, 1163, 1171, 1181, 1187, 1193, 1201, 1213, 1217, 1223, 1229, 1231, 1237, 1249, 1259, 1277, 1279, 1283, 1289, 1291, 1297, 1301, 1303, 1307, 1319, 1321, 1327, 1361, 1367, 1373, 1381, 1399, 1409, 1423, 1427, 1429, 1433, 1439, 1447, 1451, 1453, 1459, 1471, 1481, 1483, 1487, 1489, 1493, 1499, 1511, 1523, 1531, 1543, 1549, 1553, 1559, 1567, 1571, 1579, 1583, 1597, 1601, 1607, 1609, 1613, 1619, 1621, 1627, 1637, 1657, 1663, 1667, 1669, 1693, 1697, 1699, 1709, 1721, 1723, 1733, 1741, 1747, 1753, 1759, 1777, 1783, 1787, 1789, 1801, 1811, 1823, 1831, 1847, 1861, 1867, 1871, 1873, 1877, 1879, 1889, 1901, 1907, 1913, 1931, 1933, 1949, 1951, 1973, 1979, 1987, 1993, 1997, 1999, 2003, 2011, 2017]\n"
     ]
    }
   ],
   "source": [
    "from itertools import combinations\n",
    "from math import comb\n",
    "\n",
    "def is_prime(n:int)->bool:\n",
    "    if n <= 1:\n",
    "        return False\n",
    "    for i in range(2, int(n**0.5) + 1):\n",
    "        if n % i == 0:\n",
    "            return False\n",
    "    return True\n",
    "\n",
    "primes = [num for num in range(2025) if is_prime(num)]\n",
    "print(f\"{len(primes)} primes under 2025:\\n{primes}\")\n"
   ]
  },
  {
   "cell_type": "markdown",
   "metadata": {},
   "source": [
    "What's the upper bound, ie the max number of primes that could possibly add up to 2025?"
   ]
  },
  {
   "cell_type": "code",
   "execution_count": 6,
   "metadata": {},
   "outputs": [
    {
     "name": "stdout",
     "output_type": "stream",
     "text": [
      "the first 33 primes add up to 1988\n",
      "the first 34 primes add up to 2127\n"
     ]
    }
   ],
   "source": [
    "nb=0\n",
    "s=0\n",
    "for prime in primes:\n",
    "    if s+prime>2025:\n",
    "        break\n",
    "    s+=prime\n",
    "    nb+=1\n",
    "print(f\"the first {nb} primes add up to {s}\")\n",
    "print(f\"the first {nb+1} primes add up to {s+prime}\")"
   ]
  },
  {
   "cell_type": "markdown",
   "metadata": {},
   "source": [
    "OK we have a narrower scope now, although this will likely represent an untractable search space"
   ]
  },
  {
   "cell_type": "code",
   "execution_count": 7,
   "metadata": {},
   "outputs": [],
   "source": [
    "def get_relevant_primes(cardinal:int, primes:list[int])->list[int]:\n",
    "    \"\"\"Returns the list of candidate primes in which one might extract `cardinal`\n",
    "    numbers to add up to 2025; based on the max plausible value.\n",
    "\n",
    "    Args:\n",
    "        cardinal (int): the number of primes in the group of candidate numbers\n",
    "\n",
    "    Returns:\n",
    "        list[int]: the group of candidate primes\n",
    "    \"\"\"\n",
    "    s= sum(primes[:cardinal-1]) # take the `cardinal-1` first primes\n",
    "    # what is the highest prime that could be taken, ie such that s + this prime <= 2025 ?\n",
    "    for i in range(cardinal-1, len(primes)):\n",
    "        if s + primes[i] > 2025:\n",
    "            candidates= primes[:i]\n",
    "            return candidates\n",
    "    return primes\n"
   ]
  },
  {
   "cell_type": "code",
   "execution_count": 15,
   "metadata": {},
   "outputs": [
    {
     "name": "stdout",
     "output_type": "stream",
     "text": [
      "below are the number of combinations of k primes taken in the above list of 306 primes under 2025.\n",
      "And that is already optimized by looking at the max plausible value (see function get_relevant_primes)! As expected these are astronomical.\n",
      "The only value that is actually iterable for a mundane computer is 3: looping over 4_728_720 items is generally doable.\n",
      "[(3, 4728720), (4, 353518180), (5, 20932912560), (6, 1002319312995), (7, 39494993171634), (8, 1365332543512245), (9, 41221140106119260), (32, 450883717216034179), (10, 1100220888889816408), (11, 25225723748833593440), (12, 454114140096308188315), (13, 8251293359737707230700), (31, 59488706401523551644624), (14, 128605083186263852143800), (15, 1609484153977526457766689), (16, 17811576069083142710034000), (30, 29372339821610944823963760), (17, 174573373849880188322437200), (18, 1214402797397737883192882625), (29, 4243634690199352227365018524), (19, 7192441475404230387885398800), (20, 32991718972148235529162365510), (28, 71947061714657031747684483600), (21, 125264861963199880655843095701), (27, 431982805166885120820276584000), (22, 540758414007032114853302166005), (26, 833317697569147419425924252412), (23, 1109794884817340728621530770400), (24, 1732860282858124640623562720925), (25, 2003525308912950248438870289432)]\n",
      "These are astronomical numbers, there must be another way\n"
     ]
    }
   ],
   "source": [
    "max_cardinal = 3 # the max known (so far) number of primes adding up to 2025 provided in the text is 4\n",
    "nb_combs= {}\n",
    "for group_cardinal in range(max_cardinal,33):\n",
    "    #print(f\"{group_cardinal=}\")\n",
    "    candidates = get_relevant_primes(group_cardinal, primes)\n",
    "    #print(f\"{len(candidates)=}\")\n",
    "    nb_combs[group_cardinal]= comb(len(candidates), group_cardinal)\n",
    "    \n",
    "print(\"below are the number of combinations of k primes taken in the above list of 306 primes under 2025.\\nAnd that is already optimized by looking at the max plausible value (see function get_relevant_primes)! As expected these are astronomical.\")\n",
    "print(\"The only value that is actually iterable for a mundane computer is 3: looping over 4_728_720 items is generally doable.\")\n",
    "\n",
    "print(sorted(nb_combs.items(), key=lambda x :x[1]))\n",
    "print(\"These are astronomical numbers, there must be another way\")"
   ]
  },
  {
   "cell_type": "markdown",
   "metadata": {},
   "source": [
    "Now looking at the text again; as is well-known, 2 is the only even prime, and the text suggests there might be a pattern: 2 might be necessary\n",
    "to build any even-length combination, seen as 'even + odd' where odd is the sum of all the primes but 2.\n",
    "\n",
    "With this in mind, and knowing that when creating the combinations, they'll be ordered, i.e. those containing 2 will pop up first,\n",
    "this gave me the idea of trying out every even-length combination, it *should* be relatively quick"
   ]
  },
  {
   "cell_type": "code",
   "execution_count": 19,
   "metadata": {},
   "outputs": [
    {
     "name": "stdout",
     "output_type": "stream",
     "text": [
      "2+3+5+7+11+1997=2025 (6 numbers)\n",
      "2+3+5+7+11+13+53+1931=2025 (8 numbers)\n",
      "2+3+5+7+11+13+17+19+41+1907=2025 (10 numbers)\n",
      "2+3+5+7+11+13+17+19+23+29+73+1823=2025 (12 numbers)\n",
      "2+3+5+7+11+13+17+19+23+29+31+37+41+1787=2025 (14 numbers)\n",
      "2+3+5+7+11+13+17+19+23+29+31+37+41+43+47+1697=2025 (16 numbers)\n",
      "2+3+5+7+11+13+17+19+23+29+31+37+41+43+47+53+61+1583=2025 (18 numbers)\n",
      "2+3+5+7+11+13+17+19+23+29+31+37+41+43+47+53+59+61+71+1453=2025 (20 numbers)\n",
      "2+3+5+7+11+13+17+19+23+29+31+37+41+43+47+53+59+61+67+71+79+1307=2025 (22 numbers)\n",
      "2+3+5+7+11+13+17+19+23+29+31+37+41+43+47+53+59+61+67+71+73+79+83+1151=2025 (24 numbers)\n",
      "2+3+5+7+11+13+17+19+23+29+31+37+41+43+47+53+59+61+67+71+73+79+83+89+109+953=2025 (26 numbers)\n",
      "2+3+5+7+11+13+17+19+23+29+31+37+41+43+47+53+59+61+67+71+73+79+83+89+97+101+103+761=2025 (28 numbers)\n",
      "2+3+5+7+11+13+17+19+23+29+31+37+41+43+47+53+59+61+67+71+73+79+83+89+97+101+103+107+113+541=2025 (30 numbers)\n",
      "2+3+5+7+11+13+17+19+23+29+31+37+41+43+47+53+59+61+67+71+73+79+83+89+97+101+103+107+109+113+139+293=2025 (32 numbers)\n",
      "CPU times: user 1.82 ms, sys: 0 ns, total: 1.82 ms\n",
      "Wall time: 1.85 ms\n"
     ]
    }
   ],
   "source": [
    "%%time\n",
    "# iterate over even cardinals => 2 is needed and this will quickly yield tuples that add up to 2025\n",
    "for cardinal in range(6, 34, 2):\n",
    "    candidates = get_relevant_primes(cardinal, primes)\n",
    "    for combi in combinations(candidates, cardinal):\n",
    "        if sum(combi)==2025:\n",
    "            print(f\"{'+'.join(map(str,combi))}=2025 ({cardinal} numbers)\")\n",
    "            break"
   ]
  },
  {
   "cell_type": "markdown",
   "metadata": {},
   "source": [
    "This was instantaneous (see run time above)!\n",
    "What a change from the previous approach!\n",
    "\n",
    "The answer is therefore: a maximum of **32** prime numbers can add up to 2025. As seen previously, 33 does not work as the first 33 primes add up to 1988 while the first 34 add up to 2127.\n",
    "One such combination is shown above\n"
   ]
  },
  {
   "cell_type": "markdown",
   "metadata": {},
   "source": [
    "Here are more 10 more solutions:"
   ]
  },
  {
   "cell_type": "code",
   "execution_count": 22,
   "metadata": {},
   "outputs": [
    {
     "name": "stdout",
     "output_type": "stream",
     "text": [
      "2+3+5+7+11+13+17+19+23+29+31+37+41+43+47+53+59+61+67+71+73+79+83+89+97+101+103+107+109+113+139+293=2025 (32 numbers)\n",
      "2+3+5+7+11+13+17+19+23+29+31+37+41+43+47+53+59+61+67+71+73+79+83+89+97+101+103+107+109+113+149+283=2025 (32 numbers)\n",
      "2+3+5+7+11+13+17+19+23+29+31+37+41+43+47+53+59+61+67+71+73+79+83+89+97+101+103+107+109+113+151+281=2025 (32 numbers)\n",
      "2+3+5+7+11+13+17+19+23+29+31+37+41+43+47+53+59+61+67+71+73+79+83+89+97+101+103+107+109+113+163+269=2025 (32 numbers)\n",
      "2+3+5+7+11+13+17+19+23+29+31+37+41+43+47+53+59+61+67+71+73+79+83+89+97+101+103+107+109+113+181+251=2025 (32 numbers)\n",
      "2+3+5+7+11+13+17+19+23+29+31+37+41+43+47+53+59+61+67+71+73+79+83+89+97+101+103+107+109+113+191+241=2025 (32 numbers)\n",
      "2+3+5+7+11+13+17+19+23+29+31+37+41+43+47+53+59+61+67+71+73+79+83+89+97+101+103+107+109+113+193+239=2025 (32 numbers)\n",
      "2+3+5+7+11+13+17+19+23+29+31+37+41+43+47+53+59+61+67+71+73+79+83+89+97+101+103+107+109+113+199+233=2025 (32 numbers)\n",
      "2+3+5+7+11+13+17+19+23+29+31+37+41+43+47+53+59+61+67+71+73+79+83+89+97+101+103+107+109+127+137+281=2025 (32 numbers)\n",
      "2+3+5+7+11+13+17+19+23+29+31+37+41+43+47+53+59+61+67+71+73+79+83+89+97+101+103+107+109+127+149+269=2025 (32 numbers)\n",
      "CPU times: user 289 μs, sys: 0 ns, total: 289 μs\n",
      "Wall time: 285 μs\n"
     ]
    }
   ],
   "source": [
    "%%time\n",
    "\n",
    "c = 0\n",
    "candidates = get_relevant_primes(32, primes)\n",
    "combis = combinations(candidates, 32)\n",
    "while c <10:\n",
    "    combi = next(combis)\n",
    "    if sum(combi)==2025:\n",
    "        print(f\"{'+'.join(map(str,combi))}=2025 ({32} numbers)\")\n",
    "        c += 1"
   ]
  },
  {
   "cell_type": "markdown",
   "metadata": {},
   "source": [
    "Interestingly, after finding the solution, I copy-pasted the problem's text to the AI assistant I use (Copilot), and it failed to solve it"
   ]
  }
 ],
 "metadata": {
  "kernelspec": {
   "display_name": "base",
   "language": "python",
   "name": "python3"
  },
  "language_info": {
   "codemirror_mode": {
    "name": "ipython",
    "version": 3
   },
   "file_extension": ".py",
   "mimetype": "text/x-python",
   "name": "python",
   "nbconvert_exporter": "python",
   "pygments_lexer": "ipython3",
   "version": "3.12.2"
  }
 },
 "nbformat": 4,
 "nbformat_minor": 2
}
