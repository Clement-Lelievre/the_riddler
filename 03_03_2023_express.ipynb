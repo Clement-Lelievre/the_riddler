{
 "cells": [
  {
   "cell_type": "code",
   "execution_count": 2,
   "id": "1091bb02",
   "metadata": {
    "ExecuteTime": {
     "end_time": "2023-03-15T13:08:39.661907Z",
     "start_time": "2023-03-15T13:08:39.656345Z"
    }
   },
   "outputs": [],
   "source": [
    "from collections import defaultdict\n",
    "import matplotlib.pyplot as plt"
   ]
  },
  {
   "cell_type": "markdown",
   "id": "29cd87a9",
   "metadata": {},
   "source": [
    "# Riddler Express"
   ]
  },
  {
   "cell_type": "markdown",
   "id": "ca7c7ef7",
   "metadata": {},
   "source": [
    "From Oscar Lanzi comes a matter of tricky triangular numbers:\n",
    "\n",
    "Suppose you are adding up whole numbers in order. You start with 1, then add 2 to get 3. Then you add 3 to get 6. Then you add 4 to get 10, and so on.\n",
    "\n",
    "If you keep going — adding larger and larger numbers in this fashion, and looking at the resulting sums — you might notice a few patterns among the last two digits. One such pattern is that no sum ever ends with the digits “23.” Meanwhile, some pairs of final digits are more common than others.\n",
    "\n",
    "**Which pairs of final digits are the most common?** (Here, “23” is a distinct final pair of digits from “32.”)"
   ]
  },
  {
   "cell_type": "markdown",
   "id": "6645d030",
   "metadata": {},
   "source": [
    "Let us get the final 2 digits of the first 1,000,000 numbers. They belong to the interval [0, 99]"
   ]
  },
  {
   "cell_type": "code",
   "execution_count": 12,
   "id": "11f7f42c",
   "metadata": {
    "ExecuteTime": {
     "end_time": "2023-03-15T13:14:51.741113Z",
     "start_time": "2023-03-15T13:14:51.735675Z"
    }
   },
   "outputs": [],
   "source": [
    "def get_numbers() -> int:\n",
    "    \"\"\"Generator that produces an infinite amount of ordered triangular numbers\"\"\"\n",
    "    s = 0\n",
    "    i = 1\n",
    "    while True:\n",
    "        s += i\n",
    "        yield s\n",
    "        i += 1"
   ]
  },
  {
   "cell_type": "code",
   "execution_count": 33,
   "id": "a933a899",
   "metadata": {
    "ExecuteTime": {
     "end_time": "2023-03-15T13:29:52.484012Z",
     "start_time": "2023-03-15T13:29:51.731963Z"
    }
   },
   "outputs": [],
   "source": [
    "digits_distrib = defaultdict(int)\n",
    "numbers = get_numbers()\n",
    "for _ in range(1_000_000):\n",
    "    digits_distrib[str(next(numbers))[-2:]] += 1"
   ]
  },
  {
   "cell_type": "markdown",
   "id": "42ac8abd",
   "metadata": {},
   "source": [
    "Getting the last two digits that are the most recurring"
   ]
  },
  {
   "cell_type": "code",
   "execution_count": 20,
   "id": "678007ce",
   "metadata": {
    "ExecuteTime": {
     "end_time": "2023-03-15T13:19:36.248844Z",
     "start_time": "2023-03-15T13:19:36.239829Z"
    }
   },
   "outputs": [
    {
     "data": {
      "text/plain": [
       "['28', '78', '53']"
      ]
     },
     "execution_count": 20,
     "metadata": {},
     "output_type": "execute_result"
    }
   ],
   "source": [
    "maxes = [last_two_digits for last_two_digits in digits_distrib if digits_distrib[last_two_digits] == max(digits_distrib.values())]\n",
    "maxes"
   ]
  },
  {
   "cell_type": "markdown",
   "id": "838d2357",
   "metadata": {},
   "source": [
    "Visual representation (ordering the dict items for the sake of readability)"
   ]
  },
  {
   "cell_type": "code",
   "execution_count": 36,
   "id": "9c1e763c",
   "metadata": {
    "ExecuteTime": {
     "end_time": "2023-03-15T13:30:04.073633Z",
     "start_time": "2023-03-15T13:30:03.745983Z"
    },
    "scrolled": false
   },
   "outputs": [
    {
     "data": {
      "image/png": "[encoded data removed]",
      "text/plain": [
       "<Figure size 720x720 with 1 Axes>"
      ]
     },
     "metadata": {
      "needs_background": "light"
     },
     "output_type": "display_data"
    }
   ],
   "source": [
    "plt.figure(figsize=(10,10))\n",
    "plt.scatter((sdd := sorted(digits_distrib)), tuple(map(digits_distrib.get, sdd)));"
   ]
  }
 ],
 "metadata": {
  "kernelspec": {
   "display_name": "Python 3 (ipykernel)",
   "language": "python",
   "name": "python3"
  },
  "language_info": {
   "codemirror_mode": {
    "name": "ipython",
    "version": 3
   },
   "file_extension": ".py",
   "mimetype": "text/x-python",
   "name": "python",
   "nbconvert_exporter": "python",
   "pygments_lexer": "ipython3",
   "version": "3.10.0"
  },
  "toc": {
   "base_numbering": 1,
   "nav_menu": {},
   "number_sections": true,
   "sideBar": true,
   "skip_h1_title": false,
   "title_cell": "Table of Contents",
   "title_sidebar": "Contents",
   "toc_cell": false,
   "toc_position": {},
   "toc_section_display": true,
   "toc_window_display": false
  },
  "varInspector": {
   "cols": {
    "lenName": 16,
    "lenType": 16,
    "lenVar": 40
   },
   "kernels_config": {
    "python": {
     "delete_cmd_postfix": "",
     "delete_cmd_prefix": "del ",
     "library": "var_list.py",
     "varRefreshCmd": "print(var_dic_list())"
    },
    "r": {
     "delete_cmd_postfix": ") ",
     "delete_cmd_prefix": "rm(",
     "library": "var_list.r",
     "varRefreshCmd": "cat(var_dic_list()) "
    }
   },
   "types_to_exclude": [
    "module",
    "function",
    "builtin_function_or_method",
    "instance",
    "_Feature"
   ],
   "window_display": false
  }
 },
 "nbformat": 4,
 "nbformat_minor": 5
}
