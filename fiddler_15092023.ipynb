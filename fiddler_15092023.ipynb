{
  "cells": [
    {
      "cell_type": "markdown",
      "metadata": {
        "id": "P-H6Lw1vyNNd"
      },
      "source": [
        "# [Fiddler](https://thefiddler.substack.com/p/how-likely-is-a-lopsided-league?publication_id=1745947&post_id=137055625) 15th Sept 2023\n",
        "\n",
        "About halfway through the current Major League Baseball season, all five teams in the American League East division had better records (i.e., winning percentages, or percent of games won) than all five teams in the American League Central region.\n",
        "\n",
        "Inspired by this surprising fact, suppose Fiddler League Baseball has six divisions, with five teams in each division. For simplicity, further suppose each team has a winning percentage chosen randomly, uniformly, and independently between zero percent and 100 percent.\n",
        "\n",
        "Let’s look at two divisions: The Enigma League East division and the Enigma League Central division. What is the probability that every team in the Enigma League East division has a higher winning percentage than every team in the Enigma League Central division?"
      ]
    },
    {
      "cell_type": "markdown",
      "source": [
        "Two observations:\n",
        "\n",
        "- the independance assumption is used to get the product of probabilities\n",
        "- the fact that \"for the weakest team from any division to be stronger than the strongest team of another division\" is equivalent to \"for all teams in any division to be stronger than the strongest team of another division\""
      ],
      "metadata": {
        "id": "04iFm9AXAWrP"
      }
    },
    {
      "cell_type": "markdown",
      "source": [
        "## Answer"
      ],
      "metadata": {
        "id": "E5Cg-UQ9BKXm"
      }
    },
    {
      "cell_type": "markdown",
      "source": [
        "$$P\\left(Central_{\\textrm{max}} < Eastern_{\\textrm{min}}\\right) = \\prod_{i=1}^{5}P\\left(Central_i < Eastern_{\\textrm{min}}\\right)$$\n",
        "\n",
        "$$=\\prod_{i=1}^{5}\\prod_{i=1}^{5}P\\left(Central_i < Eastern_i\\right)$$\n",
        "\n",
        "$$=\\prod_{i=1}^{5}\\prod_{i=1}^{5}1/2$$\n",
        "\n",
        "$$=\\prod_{i=1}^{5}\\frac{1}{2^{5}}$$\n",
        "\n",
        "$$=\\frac{1}{2^{25}}$$"
      ],
      "metadata": {
        "id": "aTClvllU7QB4"
      }
    },
    {
      "cell_type": "markdown",
      "source": [
        "## Interpretation"
      ],
      "metadata": {
        "id": "uwNCNsNyBPMF"
      }
    },
    {
      "cell_type": "markdown",
      "source": [
        "The interpretation can be seen below: for each of the 25 possible pairings, we need a yes/no question (is the central team weaker than the eastern team?) to be answered the right way, with a 1/2 chance each time"
      ],
      "metadata": {
        "id": "_fCgxmHX_Qdv"
      }
    },
    {
      "cell_type": "code",
      "source": [
        "import pandas as pd"
      ],
      "metadata": {
        "id": "wdwkbKo3-cPq"
      },
      "execution_count": 2,
      "outputs": []
    },
    {
      "cell_type": "code",
      "source": [
        "df = pd.DataFrame([[\"yes/no\"]*5 for _ in range(5)], columns=[f\"Central_{i}\" for i in range(1,6)],index = [f\"Eastern_{i}\" for i in range(1,6)])\n",
        "df.columns = pd.MultiIndex.from_tuples([('Is this Central team weaker than this Eastern team?', col) for col in df.columns])\n",
        "df"
      ],
      "metadata": {
        "id": "pfg8Ojl1-tYM",
        "outputId": "4354f638-cedd-4bb0-8533-c552d283ca94",
        "colab": {
          "base_uri": "https://localhost:8080/",
          "height": 238
        }
      },
      "execution_count": 13,
      "outputs": [
        {
          "output_type": "execute_result",
          "data": {
            "text/plain": [
              "          Is this Central team weaker than this Eastern team?            \\\n",
              "                                                    Central_1 Central_2   \n",
              "Eastern_1                                             yes/no     yes/no   \n",
              "Eastern_2                                             yes/no     yes/no   \n",
              "Eastern_3                                             yes/no     yes/no   \n",
              "Eastern_4                                             yes/no     yes/no   \n",
              "Eastern_5                                             yes/no     yes/no   \n",
              "\n",
              "                                         \n",
              "          Central_3 Central_4 Central_5  \n",
              "Eastern_1    yes/no    yes/no    yes/no  \n",
              "Eastern_2    yes/no    yes/no    yes/no  \n",
              "Eastern_3    yes/no    yes/no    yes/no  \n",
              "Eastern_4    yes/no    yes/no    yes/no  \n",
              "Eastern_5    yes/no    yes/no    yes/no  "
            ],
            "text/html": [
              "\n",
              "  <div id=\"df-69049255-8851-4e9a-b240-50445fc98768\" class=\"colab-df-container\">\n",
              "    <div>\n",
              "<style scoped>\n",
              "    .dataframe tbody tr th:only-of-type {\n",
              "        vertical-align: middle;\n",
              "    }\n",
              "\n",
              "    .dataframe tbody tr th {\n",
              "        vertical-align: top;\n",
              "    }\n",
              "\n",
              "    .dataframe thead tr th {\n",
              "        text-align: left;\n",
              "    }\n",
              "</style>\n",
              "<table border=\"1\" class=\"dataframe\">\n",
              "  <thead>\n",
              "    <tr>\n",
              "      <th></th>\n",
              "      <th colspan=\"5\" halign=\"left\">Is this Central team weaker than this Eastern team?</th>\n",
              "    </tr>\n",
              "    <tr>\n",
              "      <th></th>\n",
              "      <th>Central_1</th>\n",
              "      <th>Central_2</th>\n",
              "      <th>Central_3</th>\n",
              "      <th>Central_4</th>\n",
              "      <th>Central_5</th>\n",
              "    </tr>\n",
              "  </thead>\n",
              "  <tbody>\n",
              "    <tr>\n",
              "      <th>Eastern_1</th>\n",
              "      <td>yes/no</td>\n",
              "      <td>yes/no</td>\n",
              "      <td>yes/no</td>\n",
              "      <td>yes/no</td>\n",
              "      <td>yes/no</td>\n",
              "    </tr>\n",
              "    <tr>\n",
              "      <th>Eastern_2</th>\n",
              "      <td>yes/no</td>\n",
              "      <td>yes/no</td>\n",
              "      <td>yes/no</td>\n",
              "      <td>yes/no</td>\n",
              "      <td>yes/no</td>\n",
              "    </tr>\n",
              "    <tr>\n",
              "      <th>Eastern_3</th>\n",
              "      <td>yes/no</td>\n",
              "      <td>yes/no</td>\n",
              "      <td>yes/no</td>\n",
              "      <td>yes/no</td>\n",
              "      <td>yes/no</td>\n",
              "    </tr>\n",
              "    <tr>\n",
              "      <th>Eastern_4</th>\n",
              "      <td>yes/no</td>\n",
              "      <td>yes/no</td>\n",
              "      <td>yes/no</td>\n",
              "      <td>yes/no</td>\n",
              "      <td>yes/no</td>\n",
              "    </tr>\n",
              "    <tr>\n",
              "      <th>Eastern_5</th>\n",
              "      <td>yes/no</td>\n",
              "      <td>yes/no</td>\n",
              "      <td>yes/no</td>\n",
              "      <td>yes/no</td>\n",
              "      <td>yes/no</td>\n",
              "    </tr>\n",
              "  </tbody>\n",
              "</table>\n",
              "</div>\n",
              "    <div class=\"colab-df-buttons\">\n",
              "\n",
              "  <div class=\"colab-df-container\">\n",
              "    <button class=\"colab-df-convert\" onclick=\"convertToInteractive('df-69049255-8851-4e9a-b240-50445fc98768')\"\n",
              "            title=\"Convert this dataframe to an interactive table.\"\n",
              "            style=\"display:none;\">\n",
              "\n",
              "  <svg xmlns=\"http://www.w3.org/2000/svg\" height=\"24px\" viewBox=\"0 -960 960 960\">\n",
              "    <path d=\"M120-120v-720h720v720H120Zm60-500h600v-160H180v160Zm220 220h160v-160H400v160Zm0 220h160v-160H400v160ZM180-400h160v-160H180v160Zm440 0h160v-160H620v160ZM180-180h160v-160H180v160Zm440 0h160v-160H620v160Z\"/>\n",
              "  </svg>\n",
              "    </button>\n",
              "\n",
              "  <style>\n",
              "    .colab-df-container {\n",
              "      display:flex;\n",
              "      gap: 12px;\n",
              "    }\n",
              "\n",
              "    .colab-df-convert {\n",
              "      background-color: #E8F0FE;\n",
              "      border: none;\n",
              "      border-radius: 50%;\n",
              "      cursor: pointer;\n",
              "      display: none;\n",
              "      fill: #1967D2;\n",
              "      height: 32px;\n",
              "      padding: 0 0 0 0;\n",
              "      width: 32px;\n",
              "    }\n",
              "\n",
              "    .colab-df-convert:hover {\n",
              "      background-color: #E2EBFA;\n",
              "      box-shadow: 0px 1px 2px rgba(60, 64, 67, 0.3), 0px 1px 3px 1px rgba(60, 64, 67, 0.15);\n",
              "      fill: #174EA6;\n",
              "    }\n",
              "\n",
              "    .colab-df-buttons div {\n",
              "      margin-bottom: 4px;\n",
              "    }\n",
              "\n",
              "    [theme=dark] .colab-df-convert {\n",
              "      background-color: #3B4455;\n",
              "      fill: #D2E3FC;\n",
              "    }\n",
              "\n",
              "    [theme=dark] .colab-df-convert:hover {\n",
              "      background-color: #434B5C;\n",
              "      box-shadow: 0px 1px 3px 1px rgba(0, 0, 0, 0.15);\n",
              "      filter: drop-shadow(0px 1px 2px rgba(0, 0, 0, 0.3));\n",
              "      fill: #FFFFFF;\n",
              "    }\n",
              "  </style>\n",
              "\n",
              "    <script>\n",
              "      const buttonEl =\n",
              "        document.querySelector('#df-69049255-8851-4e9a-b240-50445fc98768 button.colab-df-convert');\n",
              "      buttonEl.style.display =\n",
              "        google.colab.kernel.accessAllowed ? 'block' : 'none';\n",
              "\n",
              "      async function convertToInteractive(key) {\n",
              "        const element = document.querySelector('#df-69049255-8851-4e9a-b240-50445fc98768');\n",
              "        const dataTable =\n",
              "          await google.colab.kernel.invokeFunction('convertToInteractive',\n",
              "                                                    [key], {});\n",
              "        if (!dataTable) return;\n",
              "\n",
              "        const docLinkHtml = 'Like what you see? Visit the ' +\n",
              "          '<a target=\"_blank\" href=https://colab.research.google.com/notebooks/data_table.ipynb>data table notebook</a>'\n",
              "          + ' to learn more about interactive tables.';\n",
              "        element.innerHTML = '';\n",
              "        dataTable['output_type'] = 'display_data';\n",
              "        await google.colab.output.renderOutput(dataTable, element);\n",
              "        const docLink = document.createElement('div');\n",
              "        docLink.innerHTML = docLinkHtml;\n",
              "        element.appendChild(docLink);\n",
              "      }\n",
              "    </script>\n",
              "  </div>\n",
              "\n",
              "\n",
              "<div id=\"df-49d30f72-aea8-468f-a80c-c5ce4da06ebf\">\n",
              "  <button class=\"colab-df-quickchart\" onclick=\"quickchart('df-49d30f72-aea8-468f-a80c-c5ce4da06ebf')\"\n",
              "            title=\"Suggest charts.\"\n",
              "            style=\"display:none;\">\n",
              "\n",
              "<svg xmlns=\"http://www.w3.org/2000/svg\" height=\"24px\"viewBox=\"0 0 24 24\"\n",
              "     width=\"24px\">\n",
              "    <g>\n",
              "        <path d=\"M19 3H5c-1.1 0-2 .9-2 2v14c0 1.1.9 2 2 2h14c1.1 0 2-.9 2-2V5c0-1.1-.9-2-2-2zM9 17H7v-7h2v7zm4 0h-2V7h2v10zm4 0h-2v-4h2v4z\"/>\n",
              "    </g>\n",
              "</svg>\n",
              "  </button>\n",
              "\n",
              "<style>\n",
              "  .colab-df-quickchart {\n",
              "      --bg-color: #E8F0FE;\n",
              "      --fill-color: #1967D2;\n",
              "      --hover-bg-color: #E2EBFA;\n",
              "      --hover-fill-color: #174EA6;\n",
              "      --disabled-fill-color: #AAA;\n",
              "      --disabled-bg-color: #DDD;\n",
              "  }\n",
              "\n",
              "  [theme=dark] .colab-df-quickchart {\n",
              "      --bg-color: #3B4455;\n",
              "      --fill-color: #D2E3FC;\n",
              "      --hover-bg-color: #434B5C;\n",
              "      --hover-fill-color: #FFFFFF;\n",
              "      --disabled-bg-color: #3B4455;\n",
              "      --disabled-fill-color: #666;\n",
              "  }\n",
              "\n",
              "  .colab-df-quickchart {\n",
              "    background-color: var(--bg-color);\n",
              "    border: none;\n",
              "    border-radius: 50%;\n",
              "    cursor: pointer;\n",
              "    display: none;\n",
              "    fill: var(--fill-color);\n",
              "    height: 32px;\n",
              "    padding: 0;\n",
              "    width: 32px;\n",
              "  }\n",
              "\n",
              "  .colab-df-quickchart:hover {\n",
              "    background-color: var(--hover-bg-color);\n",
              "    box-shadow: 0 1px 2px rgba(60, 64, 67, 0.3), 0 1px 3px 1px rgba(60, 64, 67, 0.15);\n",
              "    fill: var(--button-hover-fill-color);\n",
              "  }\n",
              "\n",
              "  .colab-df-quickchart-complete:disabled,\n",
              "  .colab-df-quickchart-complete:disabled:hover {\n",
              "    background-color: var(--disabled-bg-color);\n",
              "    fill: var(--disabled-fill-color);\n",
              "    box-shadow: none;\n",
              "  }\n",
              "\n",
              "  .colab-df-spinner {\n",
              "    border: 2px solid var(--fill-color);\n",
              "    border-color: transparent;\n",
              "    border-bottom-color: var(--fill-color);\n",
              "    animation:\n",
              "      spin 1s steps(1) infinite;\n",
              "  }\n",
              "\n",
              "  @keyframes spin {\n",
              "    0% {\n",
              "      border-color: transparent;\n",
              "      border-bottom-color: var(--fill-color);\n",
              "      border-left-color: var(--fill-color);\n",
              "    }\n",
              "    20% {\n",
              "      border-color: transparent;\n",
              "      border-left-color: var(--fill-color);\n",
              "      border-top-color: var(--fill-color);\n",
              "    }\n",
              "    30% {\n",
              "      border-color: transparent;\n",
              "      border-left-color: var(--fill-color);\n",
              "      border-top-color: var(--fill-color);\n",
              "      border-right-color: var(--fill-color);\n",
              "    }\n",
              "    40% {\n",
              "      border-color: transparent;\n",
              "      border-right-color: var(--fill-color);\n",
              "      border-top-color: var(--fill-color);\n",
              "    }\n",
              "    60% {\n",
              "      border-color: transparent;\n",
              "      border-right-color: var(--fill-color);\n",
              "    }\n",
              "    80% {\n",
              "      border-color: transparent;\n",
              "      border-right-color: var(--fill-color);\n",
              "      border-bottom-color: var(--fill-color);\n",
              "    }\n",
              "    90% {\n",
              "      border-color: transparent;\n",
              "      border-bottom-color: var(--fill-color);\n",
              "    }\n",
              "  }\n",
              "</style>\n",
              "\n",
              "  <script>\n",
              "    async function quickchart(key) {\n",
              "      const quickchartButtonEl =\n",
              "        document.querySelector('#' + key + ' button');\n",
              "      quickchartButtonEl.disabled = true;  // To prevent multiple clicks.\n",
              "      quickchartButtonEl.classList.add('colab-df-spinner');\n",
              "      try {\n",
              "        const charts = await google.colab.kernel.invokeFunction(\n",
              "            'suggestCharts', [key], {});\n",
              "      } catch (error) {\n",
              "        console.error('Error during call to suggestCharts:', error);\n",
              "      }\n",
              "      quickchartButtonEl.classList.remove('colab-df-spinner');\n",
              "      quickchartButtonEl.classList.add('colab-df-quickchart-complete');\n",
              "    }\n",
              "    (() => {\n",
              "      let quickchartButtonEl =\n",
              "        document.querySelector('#df-49d30f72-aea8-468f-a80c-c5ce4da06ebf button');\n",
              "      quickchartButtonEl.style.display =\n",
              "        google.colab.kernel.accessAllowed ? 'block' : 'none';\n",
              "    })();\n",
              "  </script>\n",
              "</div>\n",
              "    </div>\n",
              "  </div>\n"
            ]
          },
          "metadata": {},
          "execution_count": 13
        }
      ]
    },
    {
      "cell_type": "markdown",
      "source": [
        "The proba of winning at the French lottery by buying a single, random ticket is 2.4 times that of this happening..."
      ],
      "metadata": {
        "id": "w_IPKZQiDYmp"
      }
    },
    {
      "cell_type": "code",
      "source": [
        "proba_win_french_lottery = 1/13_983_816\n",
        "proba_easter_stronger_central_all = 1/2**25\n",
        "proba_win_french_lottery / proba_easter_stronger_central_all"
      ],
      "metadata": {
        "id": "8dWfyluPDa57",
        "outputId": "7c838932-d519-49b3-b808-c058ea2d315f",
        "colab": {
          "base_uri": "https://localhost:8080/"
        }
      },
      "execution_count": 21,
      "outputs": [
        {
          "output_type": "execute_result",
          "data": {
            "text/plain": [
              "2.3995189868058904"
            ]
          },
          "metadata": {},
          "execution_count": 21
        }
      ]
    }
  ],
  "metadata": {
    "colab": {
      "name": "Bienvenue dans Colaboratory",
      "provenance": []
    },
    "kernelspec": {
      "display_name": "Python 3",
      "name": "python3"
    }
  },
  "nbformat": 4,
  "nbformat_minor": 0
}